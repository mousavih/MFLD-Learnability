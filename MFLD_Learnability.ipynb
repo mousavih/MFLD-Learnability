{
 "cells": [
  {
   "cell_type": "markdown",
   "id": "2db329b7-740c-42d2-801e-13be3f22a660",
   "metadata": {},
   "source": [
    "# Setup"
   ]
  },
  {
   "cell_type": "code",
   "execution_count": 1,
   "id": "e7c952c9-7437-4c42-a0f2-2dadcc8a5b31",
   "metadata": {},
   "outputs": [],
   "source": [
    "import torch\n",
    "import numpy as np\n",
    "import matplotlib\n",
    "import matplotlib.pyplot as plt\n",
    "from tqdm.notebook import tqdm"
   ]
  },
  {
   "cell_type": "code",
   "execution_count": 2,
   "id": "91c6536b-3132-48fb-b1e4-bf3b1218c084",
   "metadata": {},
   "outputs": [],
   "source": [
    "matplotlib.rcdefaults()\n",
    "matplotlib.rcParams['text.usetex'] = True\n",
    "\n",
    "device = torch.device('cuda' if torch.cuda.is_available() else 'cpu')"
   ]
  },
  {
   "cell_type": "code",
   "execution_count": 3,
   "id": "95f14612-ee03-483a-ad67-89f6cee54fdb",
   "metadata": {},
   "outputs": [],
   "source": [
    "# Useful functions for two-layer nets\n",
    "\n",
    "def pred(X, W, a, phi):\n",
    "    return phi(X @ W.T) @ a\n",
    "\n",
    "def grad(X, y, W, a, phi, phiprime):\n",
    "    n = X.shape[0]\n",
    "    V_1 = 1 / np.sqrt(n) * phiprime(W @ X.T) * a.reshape(-1, 1)\n",
    "    V_2 = 1 / np.sqrt(n) * X * (pred(X, W, a, phi) - y).reshape(-1, 1)\n",
    "    return V_1 @ V_2\n",
    "\n",
    "def relu(z):\n",
    "    return torch.maximum(z, torch.zeros_like(z))\n",
    "\n",
    "def reluprime(z):\n",
    "    return 1.0 * (z >= 0)\n",
    "\n",
    "def He2(z):\n",
    "    return (z**2 - 1) / np.sqrt(2)\n",
    "\n",
    "def optimize(X, y, W0, a, phi, phiprime, n_iters=100, lr=0.1, inv_temp=0.001, weight_decay=0.01, verbose=False):\n",
    "    W = W0.clone()\n",
    "    m = W.shape[0]\n",
    "    losses = []\n",
    "    for i in range(n_iters):\n",
    "        W = W - lr * m * grad(X, y, W, a, phi, phiprime) - lr * weight_decay * W \\\n",
    "                        + 2 * np.sqrt(lr * inv_temp) * torch.randn_like(W)\n",
    "        losses.append(torch.mean((pred(X, W, a, phi) - y) ** 2).item())\n",
    "        if verbose and i % (n_iters // 20) == 0:\n",
    "            print(losses[-1])\n",
    "    return W, losses"
   ]
  },
  {
   "cell_type": "markdown",
   "id": "24be50c8-41e4-49c8-a304-fcd611fd09c7",
   "metadata": {
    "tags": []
   },
   "source": [
    "## Training Dynamics Sanity Check"
   ]
  },
  {
   "cell_type": "code",
   "execution_count": 4,
   "id": "8cfef05d-5919-4a1d-9970-d042a139a074",
   "metadata": {},
   "outputs": [],
   "source": [
    "n, m, d = 2000, 50, 50\n",
    "\n",
    "m_true = 1\n",
    "w_true = torch.zeros(d).to(device)\n",
    "w_true[0] = 1.\n",
    "a_true = torch.ones(m_true).to(device) / np.sqrt(m_true)\n",
    "\n",
    "X = torch.randn(n, d).to(device)\n",
    "y = He2(X @ w_true)\n",
    "\n",
    "W = torch.randn(m, d).to(device)\n",
    "W /= torch.linalg.norm(W, dim=1).unsqueeze(1)\n",
    "a = torch.concatenate((torch.ones(m // 2), -torch.ones(m // 2))).to(device) / m"
   ]
  },
  {
   "cell_type": "code",
   "execution_count": 5,
   "id": "6d12cffb-4832-40ff-8483-8f7af5005661",
   "metadata": {
    "scrolled": true,
    "tags": []
   },
   "outputs": [],
   "source": [
    "W_new, losses = optimize(X, y, W, a, relu, reluprime, n_iters=3000, inv_temp=0.001)"
   ]
  },
  {
   "cell_type": "code",
   "execution_count": 6,
   "id": "0cfe2134-154a-451a-b458-0be9ee4fecf5",
   "metadata": {},
   "outputs": [
    {
     "data": {
      "image/png": "[encoded data removed]",
      "text/plain": [
       "<Figure size 400x300 with 1 Axes>"
      ]
     },
     "metadata": {},
     "output_type": "display_data"
    }
   ],
   "source": [
    "fig, ax = plt.subplots(figsize=(4,3))\n",
    "ax.set_ylabel('Train Loss')\n",
    "ax.set_xlabel('Iterations')\n",
    "ax.plot(losses)\n",
    "plt.show()"
   ]
  },
  {
   "cell_type": "markdown",
   "id": "df739388-76e1-4666-ace7-16b800eb5233",
   "metadata": {
    "tags": []
   },
   "source": [
    "# Gen Gap vs Effective Dimension"
   ]
  },
  {
   "cell_type": "code",
   "execution_count": 7,
   "id": "5f10e20e-88d4-411d-a813-c6355c813d4d",
   "metadata": {},
   "outputs": [],
   "source": [
    "def measure_gen_gap(deff, n=100, m=50, d=50):\n",
    "    torch.manual_seed(42)\n",
    "    w_true = torch.zeros(d).to(device)\n",
    "    w_true[0] = 1.\n",
    "    \n",
    "    sigmas = torch.ones(d).to(device)\n",
    "    sigmas[1:] *= np.sqrt((deff - 1) / (d - 1))\n",
    "    Sigma_hf = torch.diag(sigmas)\n",
    "    \n",
    "    X = torch.randn(n, d).to(device) @ Sigma_hf\n",
    "    X_bias = torch.hstack((X, torch.ones(n, 1).to(device)))\n",
    "    y = He2(X @ w_true)\n",
    "                          \n",
    "    W = torch.randn(m, d + 1).to(device)\n",
    "    W /= torch.linalg.norm(W, dim=1).unsqueeze(1)\n",
    "    a = torch.concatenate((torch.ones(m // 2), -torch.ones(m // 2))).to(device) / m                      \n",
    "    \n",
    "    W_new, losses = optimize(X_bias, y, W, a, relu, reluprime, n_iters=3000, inv_temp=0.001, weight_decay=0.01)\n",
    "    \n",
    "    X_test = torch.randn(100000, d).to(device) @ Sigma_hf\n",
    "    X_test_bias = torch.hstack((X_test, torch.ones(100000, 1).to(device)))\n",
    "    y_test = He2(X_test @ w_true)\n",
    "    \n",
    "    test_loss = torch.mean((pred(X_test_bias, W_new, a, relu) - y_test) ** 2).item()\n",
    "    return test_loss - losses[-1]"
   ]
  },
  {
   "cell_type": "code",
   "execution_count": 8,
   "id": "0997cc7c-be5d-4fc5-b419-fa3e9372022f",
   "metadata": {
    "scrolled": true,
    "tags": []
   },
   "outputs": [
    {
     "data": {
      "application/vnd.jupyter.widget-view+json": {
       "model_id": "945a4121f62648178a1b546759e7e728",
       "version_major": 2,
       "version_minor": 0
      },
      "text/plain": [
       "  0%|          | 0/50 [00:00<?, ?it/s]"
      ]
     },
     "metadata": {},
     "output_type": "display_data"
    },
    {
     "name": "stdout",
     "output_type": "stream",
     "text": [
      "deff: 10, Gen gap: 0.33237089961767197\n",
      "deff: 20, Gen gap: 0.5841763690114021\n",
      "deff: 30, Gen gap: 0.8098943959921598\n",
      "deff: 40, Gen gap: 1.0495691504329443\n",
      "deff: 50, Gen gap: 1.2345942612737417\n"
     ]
    }
   ],
   "source": [
    "gaps_100 = []\n",
    "for deff in tqdm(range(1, 51)):\n",
    "    gaps_100.append(measure_gen_gap(deff))\n",
    "    if deff % 10 == 0:\n",
    "        print(f'deff: {deff}, Gen gap: {gaps_100[-1]}')"
   ]
  },
  {
   "cell_type": "code",
   "execution_count": 9,
   "id": "0623e889-d99e-4504-ac65-85c299596655",
   "metadata": {
    "scrolled": true,
    "tags": []
   },
   "outputs": [
    {
     "data": {
      "application/vnd.jupyter.widget-view+json": {
       "model_id": "be4e523deba84d58ab5b0c0b012967e1",
       "version_major": 2,
       "version_minor": 0
      },
      "text/plain": [
       "  0%|          | 0/50 [00:00<?, ?it/s]"
      ]
     },
     "metadata": {},
     "output_type": "display_data"
    },
    {
     "name": "stdout",
     "output_type": "stream",
     "text": [
      "deff: 10, Gen gap: 0.16651764512062073\n",
      "deff: 20, Gen gap: 0.2801348865032196\n",
      "deff: 30, Gen gap: 0.41297647356987\n",
      "deff: 40, Gen gap: 0.5178140066564083\n",
      "deff: 50, Gen gap: 0.6747847124934196\n"
     ]
    }
   ],
   "source": [
    "gaps_200 = []\n",
    "for deff in tqdm(range(1, 51)):\n",
    "    gaps_200.append(measure_gen_gap(deff, n=200))\n",
    "    if deff % 10 == 0:\n",
    "        print(f'deff: {deff}, Gen gap: {gaps_200[-1]}')"
   ]
  },
  {
   "cell_type": "code",
   "execution_count": 10,
   "id": "940da126-9d6e-41a3-988d-51fbb9310695",
   "metadata": {
    "scrolled": true,
    "tags": []
   },
   "outputs": [
    {
     "data": {
      "application/vnd.jupyter.widget-view+json": {
       "model_id": "2643a8efc86c4a8b94ad9367fc09e830",
       "version_major": 2,
       "version_minor": 0
      },
      "text/plain": [
       "  0%|          | 0/50 [00:00<?, ?it/s]"
      ]
     },
     "metadata": {},
     "output_type": "display_data"
    },
    {
     "name": "stdout",
     "output_type": "stream",
     "text": [
      "deff: 10, Gen gap: 0.039887934923172\n",
      "deff: 20, Gen gap: 0.07241082936525345\n",
      "deff: 30, Gen gap: 0.10308519005775452\n",
      "deff: 40, Gen gap: 0.12617649137973785\n",
      "deff: 50, Gen gap: 0.15650716423988342\n"
     ]
    }
   ],
   "source": [
    "gaps_500 = []\n",
    "for deff in tqdm(range(1, 51)):\n",
    "    gaps_500.append(measure_gen_gap(deff, n=500))\n",
    "    if deff % 10 == 0:\n",
    "        print(f'deff: {deff}, Gen gap: {gaps_500[-1]}')"
   ]
  },
  {
   "cell_type": "code",
   "execution_count": 12,
   "id": "0da9d77f-ce0a-4417-953e-d245eca9f3e9",
   "metadata": {},
   "outputs": [
    {
     "data": {
      "image/png": "[encoded data removed]",
      "text/plain": [
       "<Figure size 400x300 with 1 Axes>"
      ]
     },
     "metadata": {},
     "output_type": "display_data"
    }
   ],
   "source": [
    "fig, ax = plt.subplots(figsize=(4, 3))\n",
    "\n",
    "ax.plot(range(1, 51), gaps_100, color='#e41a1c', label='n=100')\n",
    "ax.plot(range(1, 51), gaps_200, color='#377eb8', label='n=200')\n",
    "ax.plot(range(1, 51), gaps_500, color='#4daf4a', label='n=500')\n",
    "ax.set_xlabel(r'$d_{\\mathrm{eff}}$', fontsize=14)\n",
    "ax.set_ylabel('Generalization Gap')\n",
    "\n",
    "ax.set_xticks([1, 10, 20, 30, 40, 50])\n",
    "ax.set_xticklabels([1, 10, 20, 30, 40, 50])\n",
    "ax.set_yticks([0.0, 0.4, 0.8, 1.2])\n",
    "ax.legend()\n",
    "ax.grid(True)\n",
    "\n",
    "plt.tight_layout()\n",
    "plt.savefig('gen_gap.pdf')"
   ]
  },
  {
   "cell_type": "markdown",
   "id": "043064d3-085c-4bfc-8d7f-57bd0e3715d3",
   "metadata": {},
   "source": [
    "# Sample Complexity vs Effective Dimension"
   ]
  },
  {
   "cell_type": "code",
   "execution_count": null,
   "id": "3081ce86-1df0-47be-9c90-52c8ee209f45",
   "metadata": {
    "scrolled": true,
    "tags": []
   },
   "outputs": [
    {
     "name": "stdout",
     "output_type": "stream",
     "text": [
      "Trial: 0\n"
     ]
    },
    {
     "data": {
      "application/vnd.jupyter.widget-view+json": {
       "model_id": "298bee9396084f919b8be44bbf960cac",
       "version_major": 2,
       "version_minor": 0
      },
      "text/plain": [
       "  0%|          | 0/16 [00:00<?, ?it/s]"
      ]
     },
     "metadata": {},
     "output_type": "display_data"
    },
    {
     "name": "stdout",
     "output_type": "stream",
     "text": [
      "n: 50, deff: 5, test loss: 0.5352259874343872\n",
      "n: 140, deff: 14, test loss: 0.5656630992889404\n",
      "n: 230, deff: 23, test loss: 0.7067763805389404\n",
      "n: 320, deff: 32, test loss: 0.6203339695930481\n",
      "n: 410, deff: 41, test loss: 0.6008959412574768\n",
      "n: 500, deff: 50, test loss: 0.6235855221748352\n",
      "\n",
      "Trial: 1\n"
     ]
    },
    {
     "data": {
      "application/vnd.jupyter.widget-view+json": {
       "model_id": "5d3d60ecb8db4cc699386be2cdfec860",
       "version_major": 2,
       "version_minor": 0
      },
      "text/plain": [
       "  0%|          | 0/16 [00:00<?, ?it/s]"
      ]
     },
     "metadata": {},
     "output_type": "display_data"
    },
    {
     "name": "stdout",
     "output_type": "stream",
     "text": [
      "n: 50, deff: 5, test loss: 0.4631683826446533\n",
      "n: 140, deff: 14, test loss: 0.494720995426178\n",
      "n: 230, deff: 23, test loss: 0.4556904137134552\n",
      "n: 320, deff: 32, test loss: 0.5774851441383362\n",
      "n: 410, deff: 41, test loss: 0.5209805965423584\n",
      "n: 500, deff: 50, test loss: 0.5243473649024963\n",
      "\n",
      "Trial: 2\n"
     ]
    },
    {
     "data": {
      "application/vnd.jupyter.widget-view+json": {
       "model_id": "582ee1520fb74353a575e8d57387839d",
       "version_major": 2,
       "version_minor": 0
      },
      "text/plain": [
       "  0%|          | 0/16 [00:00<?, ?it/s]"
      ]
     },
     "metadata": {},
     "output_type": "display_data"
    },
    {
     "name": "stdout",
     "output_type": "stream",
     "text": [
      "n: 50, deff: 5, test loss: 0.5798783302307129\n",
      "n: 140, deff: 14, test loss: 0.5732761025428772\n"
     ]
    }
   ],
   "source": [
    "m, d = 50, 50\n",
    "torch.manual_seed(42)\n",
    "\n",
    "w_true = torch.zeros(d).to(device)\n",
    "w_true[0] = 1.\n",
    "\n",
    "W0 = torch.randn(m, d + 1).to(device)\n",
    "W0 /= torch.linalg.norm(W0, dim=1).unsqueeze(1)\n",
    "a = torch.concatenate((torch.ones(m // 2), -torch.ones(m // 2))).to(device) / m   \n",
    "\n",
    "Trials = 5\n",
    "\n",
    "deffs = np.arange(5, 51, 3, dtype=int)\n",
    "ns = np.arange(50, 501, 30, dtype=int)\n",
    "all_losses = torch.zeros((Trials, len(deffs), len(ns)))\n",
    "\n",
    "for trial in range(Trials):\n",
    "    print(f'Trial: {trial}')\n",
    "    for i, deff in tqdm(enumerate(deffs), total=len(deffs)):\n",
    "        sigmas = torch.ones(d).to(device)\n",
    "        sigmas[1:] *= np.sqrt((deff - 1) / (d - 1))\n",
    "        Sigma_hf = torch.diag(sigmas)\n",
    "\n",
    "        X_test = torch.randn(100000, d).to(device) @ Sigma_hf\n",
    "        X_test_bias = torch.hstack((X_test, torch.ones(100000, 1).to(device)))\n",
    "        y_test = He2(X_test @ w_true)\n",
    "\n",
    "        X_train = torch.randn(ns[-1], d).to(device) @ Sigma_hf\n",
    "        X_train_bias = torch.hstack((X_train, torch.ones(ns[-1], 1).to(device)))\n",
    "        y_train = He2(X_train @ w_true)\n",
    "        losses = []\n",
    "\n",
    "\n",
    "        for j, n in enumerate(ns):\n",
    "            X_bias = X_train_bias[:n]\n",
    "            y = y_train[:n]\n",
    "\n",
    "            W, train_losses = optimize(X_bias, y, W0, a, relu, reluprime, n_iters=200, inv_temp=0.001, weight_decay=0.01)\n",
    "            test_loss = torch.mean((pred(X_test_bias, W, a, relu) - y_test) ** 2)\n",
    "            if (i * len(ns) + j) % (len(deffs) * len(ns) // 5) == 0:\n",
    "                print(f'n: {n}, deff: {deff}, test loss: {test_loss}')\n",
    "            all_losses[trial, i, j] = test_loss\n",
    "    print()"
   ]
  },
  {
   "cell_type": "code",
   "execution_count": null,
   "id": "fd79a757-b2b0-4088-8f81-1b6687ca5678",
   "metadata": {},
   "outputs": [],
   "source": [
    "mean_losses = all_losses.mean(dim=0)\n",
    "mean_losses = mean_losses.flip(dims=(1,))"
   ]
  },
  {
   "cell_type": "code",
   "execution_count": null,
   "id": "b67d284b-10b9-4240-a7ed-395e89109a72",
   "metadata": {},
   "outputs": [],
   "source": [
    "matplotlib.rcParams['axes.labelsize'] = 20\n",
    "matplotlib.rcParams['xtick.labelsize'] = 18\n",
    "matplotlib.rcParams['ytick.labelsize'] = 18\n",
    "\n",
    "plt.imshow(mean_losses.T, cmap='plasma_r', interpolation='nearest')\n",
    "cbar = plt.colorbar(label='Test Loss', shrink=0.8)\n",
    "cbar.set_label('Test Loss', fontsize=18)\n",
    "cbar.set_ticks([0.5, 1.2])\n",
    "plt.xlabel(r'$d_{\\mathrm{eff}}$ (effective dimension)')\n",
    "plt.ylabel(r'$n$ (sample complexity)')\n",
    "plt.xticks([0, 7.5, 15], [deffs[0], 30, deffs[15]])\n",
    "plt.yticks([0, 7.5, 15], [500, 300, 50])\n",
    "plt.tight_layout()\n",
    "plt.savefig('n_vs_deff.pdf')"
   ]
  }
 ],
 "metadata": {
  "kernelspec": {
   "display_name": "Python 3 (ipykernel)",
   "language": "python",
   "name": "python3"
  },
  "language_info": {
   "codemirror_mode": {
    "name": "ipython",
    "version": 3
   },
   "file_extension": ".py",
   "mimetype": "text/x-python",
   "name": "python",
   "nbconvert_exporter": "python",
   "pygments_lexer": "ipython3",
   "version": "3.9.12"
  }
 },
 "nbformat": 4,
 "nbformat_minor": 5
}
